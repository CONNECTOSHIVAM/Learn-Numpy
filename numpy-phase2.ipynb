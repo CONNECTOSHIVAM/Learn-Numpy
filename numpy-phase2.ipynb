{
 "cells": [
  {
   "cell_type": "markdown",
   "id": "cdcb29b8",
   "metadata": {},
   "source": [
    "##Numpy Arrays Operations"
   ]
  },
  {
   "cell_type": "code",
   "execution_count": 1,
   "id": "ffb9bc22",
   "metadata": {},
   "outputs": [],
   "source": [
    "import numpy as np"
   ]
  },
  {
   "cell_type": "code",
   "execution_count": 6,
   "id": "7315f098",
   "metadata": {},
   "outputs": [
    {
     "name": "stdout",
     "output_type": "stream",
     "text": [
      "specific element 9\n",
      "Enite specific row:  [2 5 6]\n",
      "enite specific column:  [1 2 7]\n"
     ]
    }
   ],
   "source": [
    "arr_2d = np.array([[1,3,4],[2,5,6],[7,8,9]])\n",
    "print(\"specific element\", arr_2d[2,2])\n",
    "print(\"Enite specific row: \",arr_2d[1])\n",
    "print(\"enite specific column: \",arr_2d[:,0])"
   ]
  },
  {
   "cell_type": "markdown",
   "id": "36e3a88d",
   "metadata": {},
   "source": [
    "##Sorting"
   ]
  },
  {
   "cell_type": "code",
   "execution_count": 15,
   "id": "ec8c7d79",
   "metadata": {},
   "outputs": [
    {
     "name": "stdout",
     "output_type": "stream",
     "text": [
      "sorted array:  [ 1  2  2  3  3  5 21 23]\n",
      "sorted 2d_array by column: \n",
      " [[1 1]\n",
      " [3 2]\n",
      " [3 2]]\n",
      "\n",
      " sorted 2d_array by row: \n",
      " [[1 3]\n",
      " [1 2]\n",
      " [2 3]]\n"
     ]
    }
   ],
   "source": [
    "unsorted = np.array([2,1,3,2,21,3,23,5])\n",
    "print(\"sorted array: \",np.sort(unsorted))\n",
    "\n",
    "arr_2d_unsorted = np.array([[3,1],[1,2],[3,2]])\n",
    "print(\"sorted 2d_array by column: \\n\",np.sort(arr_2d_unsorted, axis = 0))\n",
    "print(\"\\n sorted 2d_array by row: \\n\",np.sort(arr_2d_unsorted,axis=1))"
   ]
  },
  {
   "cell_type": "markdown",
   "id": "3ab4c146",
   "metadata": {},
   "source": [
    "Filter"
   ]
  },
  {
   "cell_type": "code",
   "execution_count": 17,
   "id": "64adbb23",
   "metadata": {},
   "outputs": [
    {
     "name": "stdout",
     "output_type": "stream",
     "text": [
      "even number:   [ 2  4  6  8 10]\n"
     ]
    }
   ],
   "source": [
    "number = np.array([1,2,3,4,5,6,7,8,9,10])\n",
    "even_number = number[ number % 2 == 0]\n",
    "print(\"even number:  \",even_number)"
   ]
  },
  {
   "cell_type": "code",
   "execution_count": 24,
   "id": "d1b049fe",
   "metadata": {},
   "outputs": [
    {
     "data": {
      "text/plain": [
       "array([ 1,  2,  3,  4,  5,  6,  7,  8,  9, 10])"
      ]
     },
     "execution_count": 24,
     "metadata": {},
     "output_type": "execute_result"
    }
   ],
   "source": [
    "number"
   ]
  },
  {
   "cell_type": "markdown",
   "id": "c3b8c5d2",
   "metadata": {},
   "source": [
    "Filter with mask"
   ]
  },
  {
   "cell_type": "code",
   "execution_count": 27,
   "id": "193c55a1",
   "metadata": {},
   "outputs": [
    {
     "name": "stdout",
     "output_type": "stream",
     "text": [
      "grater than 7 Numbers:  [ 6  7  8  9 10]\n"
     ]
    }
   ],
   "source": [
    "mask = number > 5\n",
    "print(\"grater than 7 Numbers: \",number[mask])"
   ]
  },
  {
   "cell_type": "markdown",
   "id": "fd48d173",
   "metadata": {},
   "source": [
    "Fancy indexing vs np.where()"
   ]
  },
  {
   "cell_type": "code",
   "execution_count": 30,
   "id": "9cd68658",
   "metadata": {},
   "outputs": [
    {
     "name": "stdout",
     "output_type": "stream",
     "text": [
      "[1 3 6 8]\n",
      "NP where  [ 6  7  8  9 10]\n"
     ]
    }
   ],
   "source": [
    "indices = [0 , 2 ,5,7]\n",
    "print(number[indices])\n",
    "\n",
    "where_result = np.where(number > 5)\n",
    "print(\"NP where \",number[where_result])"
   ]
  },
  {
   "cell_type": "code",
   "execution_count": 33,
   "id": "24da12ef",
   "metadata": {},
   "outputs": [
    {
     "name": "stdout",
     "output_type": "stream",
     "text": [
      "[ 1  2  3  4  5 24 28 32 36 40]\n"
     ]
    }
   ],
   "source": [
    "condition_array = np.where(number > 5, number * 4,number)\n",
    "print(condition_array)"
   ]
  },
  {
   "cell_type": "markdown",
   "id": "e5f0a242",
   "metadata": {},
   "source": [
    "Adding and removing data"
   ]
  },
  {
   "cell_type": "code",
   "execution_count": 35,
   "id": "4c40691d",
   "metadata": {},
   "outputs": [
    {
     "name": "stdout",
     "output_type": "stream",
     "text": [
      "[1 2 3 4 5 6]\n"
     ]
    }
   ],
   "source": [
    "arr1 = np.array([1,2,3])\n",
    "arr2 = np.array([4,5,6])\n",
    "\n",
    "combined = np.concatenate((arr1,arr2))\n",
    "print(combined)"
   ]
  },
  {
   "cell_type": "markdown",
   "id": "6087b0b4",
   "metadata": {},
   "source": [
    "Array compatibltity"
   ]
  },
  {
   "cell_type": "code",
   "execution_count": 36,
   "id": "69f83241",
   "metadata": {},
   "outputs": [
    {
     "name": "stdout",
     "output_type": "stream",
     "text": [
      "Compatibility Shape:  True\n"
     ]
    }
   ],
   "source": [
    "a = np.array([1,2,3])\n",
    "b = np.array([4,5,6])\n",
    "c = np.array([7,8,9])\n",
    "\n",
    "print(\"Compatibility Shape: \",a.shape == b.shape)"
   ]
  },
  {
   "cell_type": "code",
   "execution_count": 39,
   "id": "fef0ebf1",
   "metadata": {},
   "outputs": [
    {
     "name": "stdout",
     "output_type": "stream",
     "text": [
      "original array:  [[1 2]\n",
      " [3 4]]\n",
      "add new row in original arrays:  [[1 2]\n",
      " [3 4]\n",
      " [5 6]]\n",
      "In the original array add new column:  [[1 2 7]\n",
      " [3 4 8]]\n"
     ]
    }
   ],
   "source": [
    "#adding the new row inside the original arrays\n",
    "original = np.array([[1,2],[3,4]])\n",
    "new_row = np.array([5,6])\n",
    "\n",
    "with_new_row = np.vstack((original, new_row))\n",
    "print(\"original array: \",original)\n",
    "print(\"add new row in original arrays: \",with_new_row)\n",
    "\n",
    "#now add the new column in the original array.\n",
    "\n",
    "new_column = np.array([[7],[8]])\n",
    "with_new_column = np.hstack((original,new_column))\n",
    "print(\"In the original array add new column: \",with_new_column)"
   ]
  },
  {
   "cell_type": "code",
   "execution_count": 44,
   "id": "a2c0b593",
   "metadata": {},
   "outputs": [
    {
     "name": "stdout",
     "output_type": "stream",
     "text": [
      "After the deletion Arrays:  [1 2 4 5]\n"
     ]
    }
   ],
   "source": [
    "#delete \n",
    "arr = np.array([1,2,3,4,5])\n",
    "deleted = np.delete(arr,2)\n",
    "print(\"After the deletion Arrays: \",deleted)"
   ]
  },
  {
   "cell_type": "code",
   "execution_count": null,
   "id": "09cf3ab5",
   "metadata": {},
   "outputs": [],
   "source": []
  }
 ],
 "metadata": {
  "kernelspec": {
   "display_name": "venv",
   "language": "python",
   "name": "python3"
  },
  "language_info": {
   "codemirror_mode": {
    "name": "ipython",
    "version": 3
   },
   "file_extension": ".py",
   "mimetype": "text/x-python",
   "name": "python",
   "nbconvert_exporter": "python",
   "pygments_lexer": "ipython3",
   "version": "3.13.2"
  }
 },
 "nbformat": 4,
 "nbformat_minor": 5
}
