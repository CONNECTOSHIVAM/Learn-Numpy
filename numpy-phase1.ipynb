{
 "cells": [
  {
   "cell_type": "markdown",
   "id": "89efe9c4",
   "metadata": {},
   "source": [
    "# Learn the Numpy concepts"
   ]
  },
  {
   "cell_type": "code",
   "execution_count": 1,
   "id": "89f43292",
   "metadata": {},
   "outputs": [],
   "source": [
    "#improt the numpy libraby\n",
    "import numpy as np"
   ]
  },
  {
   "cell_type": "code",
   "execution_count": 3,
   "id": "18050302",
   "metadata": {},
   "outputs": [
    {
     "name": "stdout",
     "output_type": "stream",
     "text": [
      "arr 1D: [1 2 3 4 5]\n",
      "array 2d: [[1 2 3]\n",
      " [4 5 6]]\n"
     ]
    }
   ],
   "source": [
    "#creating a array from the list\n",
    "arr_id = np.array([1,2,3,4,5])\n",
    "print(\"arr 1D:\",arr_id)\n",
    "\n",
    "arr_2d = np.array([[1,2,3],[4,5,6]])\n",
    "print(\"array 2d:\",arr_2d)"
   ]
  },
  {
   "cell_type": "markdown",
   "id": "d312633c",
   "metadata": {},
   "source": [
    "List vs Numpy array"
   ]
  },
  {
   "cell_type": "code",
   "execution_count": 9,
   "id": "82ec8d73",
   "metadata": {},
   "outputs": [
    {
     "name": "stdout",
     "output_type": "stream",
     "text": [
      "python list multiplication :  [1, 2, 3, 1, 2, 3]\n",
      "numpy array multiplication:  [2 4 6]\n",
      "\n",
      " List opertion time: 0.00087738037109375\n",
      "Numpy array Operstions time:  0.0004897117614746094\n"
     ]
    }
   ],
   "source": [
    "py_list = [1,2,3]\n",
    "print(\"python list multiplication : \",py_list*2)\n",
    "\n",
    "np_array = np.array([1,2,3]) #element by mutiplicatons.\n",
    "print(\"numpy array multiplication: \",np_array*2)\n",
    "\n",
    "#check time taken by list vs numpy array\n",
    "import time \n",
    "start = time.time()\n",
    "py_list = [i*2 for i in range(10000)]\n",
    "print(\"\\n List opertion time:\",time.time() - start)\n",
    "\n",
    "#numpy array\n",
    "start = time.time()\n",
    "np_array = np.arange(10000)*2\n",
    "print(\"Numpy array Operstions time: \",time.time() - start)\n"
   ]
  },
  {
   "cell_type": "markdown",
   "id": "f8054d01",
   "metadata": {},
   "source": [
    "Creating arrray from scratch"
   ]
  },
  {
   "cell_type": "code",
   "execution_count": 20,
   "id": "63611759",
   "metadata": {},
   "outputs": [
    {
     "name": "stdout",
     "output_type": "stream",
     "text": [
      "zeros array: \n",
      " [[0. 0. 0. 0.]\n",
      " [0. 0. 0. 0.]\n",
      " [0. 0. 0. 0.]]\n",
      "ones Array: \n",
      " [[1. 1. 1. 1.]\n",
      " [1. 1. 1. 1.]\n",
      " [1. 1. 1. 1.]\n",
      " [1. 1. 1. 1.]]\n",
      "twos Array: \n",
      " [[7 7 7]\n",
      " [7 7 7]]\n",
      "Random Array: \n",
      " [[0.55508068 0.02727035 0.61350204 0.54819242 0.31692171]\n",
      " [0.36116978 0.61400561 0.95766614 0.75499361 0.06042471]\n",
      " [0.71602674 0.18986656 0.62427654 0.15807626 0.91813818]]\n",
      "Sequence Array:  [ 0  2  4  6  8 10]\n"
     ]
    }
   ],
   "source": [
    "#make a array of zeros.\n",
    "zeros = np.zeros((3,4))\n",
    "print(\"zeros array: \\n\",zeros)\n",
    "\n",
    "#make a array of ones.\n",
    "ones = np.ones((4,4))\n",
    "print(\"ones Array: \\n\",ones)\n",
    "\n",
    "#make a array for a specific value.\n",
    "full = np.full((2,3),7)\n",
    "print(\"twos Array: \\n\",full)\n",
    "\n",
    "#make a array with the random value.\n",
    "random = np.random.random((3,5))\n",
    "print(\"Random Array: \\n\",random)\n",
    "\n",
    "#make a sequential array:\n",
    "sequence = np.arange(0,12,2)\n",
    "print(\"Sequence Array: \",sequence)\n"
   ]
  },
  {
   "cell_type": "markdown",
   "id": "7a0f5b78",
   "metadata": {},
   "source": [
    "Vector , Matrix and Tensor"
   ]
  },
  {
   "cell_type": "code",
   "execution_count": 24,
   "id": "a8e3e0a8",
   "metadata": {},
   "outputs": [
    {
     "name": "stdout",
     "output_type": "stream",
     "text": [
      "vector:  [1 2 3 4 5]\n",
      "Matrix: \n",
      " [[1 2 3]\n",
      " [4 5 6]]\n",
      "Tensor: \n",
      " [[[1 2]\n",
      "  [3 4]]\n",
      "\n",
      " [[5 6]\n",
      "  [7 8]]]\n"
     ]
    }
   ],
   "source": [
    "vector = np.array([1,2,3,4,5])\n",
    "print(\"vector: \",vector)\n",
    "\n",
    "matrix = np.array([[1,2,3],[4,5,6]])\n",
    "print(\"Matrix: \\n\",matrix)\n",
    "\n",
    "tensor = np.array([[[1,2],[3,4]],\n",
    "                   [[5,6],[7,8]]])\n",
    "print(\"Tensor: \\n\",tensor)"
   ]
  },
  {
   "cell_type": "markdown",
   "id": "ad27cf71",
   "metadata": {},
   "source": [
    "Array Properties"
   ]
  },
  {
   "cell_type": "code",
   "execution_count": 26,
   "id": "e6f747a6",
   "metadata": {},
   "outputs": [
    {
     "name": "stdout",
     "output_type": "stream",
     "text": [
      "Shape:  (2, 3)\n",
      "Dimension:  2\n",
      "size[number of element inside the array] : 6\n",
      "Data type:  int64\n"
     ]
    }
   ],
   "source": [
    "arr = np.array([[1,2,3],[4,5,6]])\n",
    "print(\"Shape: \",arr.shape)\n",
    "print(\"Dimension: \",arr.ndim)\n",
    "print(\"size[number of element inside the array] :\",arr.size)\n",
    "print(\"Data type: \",arr.dtype)"
   ]
  },
  {
   "cell_type": "markdown",
   "id": "c5b3cdda",
   "metadata": {},
   "source": [
    "###Array reshapping"
   ]
  },
  {
   "cell_type": "code",
   "execution_count": 37,
   "id": "4b7c5a2b",
   "metadata": {},
   "outputs": [
    {
     "name": "stdout",
     "output_type": "stream",
     "text": [
      "original array: [ 0  1  2  3  4  5  6  7  8  9 10 11]\n",
      "\n",
      " reshapped Array: \n",
      " [[ 0  1  2  3]\n",
      " [ 4  5  6  7]\n",
      " [ 8  9 10 11]]\n",
      "\n",
      "Flattened Array \n",
      " [ 0  1  2  3  4  5  6  7  8  9 10 11]\n",
      "\n",
      " ravel \n",
      " [ 0  1  2  3  4  5  6  7  8  9 10 11]\n",
      "\n",
      " Transpose Array: \n",
      " [[ 0  4  8]\n",
      " [ 1  5  9]\n",
      " [ 2  6 10]\n",
      " [ 3  7 11]]\n"
     ]
    }
   ],
   "source": [
    "arr = np.arange(12)\n",
    "print(\"original array:\",arr)\n",
    "\n",
    "#for convert the specific shape the array:\n",
    "reshaped = arr.reshape((3,4))\n",
    "print(\"\\n reshapped Array: \\n\",reshaped)\n",
    "\n",
    "#now convert into flattened.\n",
    "flattened = reshaped.flatten()\n",
    "print(\"\\nFlattened Array \\n\",flattened)\n",
    "\n",
    "# ravel ( return view, instead of copy)\n",
    "ravel = reshaped.ravel()\n",
    "print(\"\\n ravel \\n\",ravel)\n",
    "\n",
    "#transpose the array --- it convert the row num into column and column number into row\n",
    "transpose = reshaped.T\n",
    "print(\"\\n Transpose Array: \\n\",transpose)\n"
   ]
  },
  {
   "cell_type": "code",
   "execution_count": null,
   "id": "7f9503d1",
   "metadata": {},
   "outputs": [],
   "source": []
  }
 ],
 "metadata": {
  "kernelspec": {
   "display_name": "venv",
   "language": "python",
   "name": "python3"
  },
  "language_info": {
   "codemirror_mode": {
    "name": "ipython",
    "version": 3
   },
   "file_extension": ".py",
   "mimetype": "text/x-python",
   "name": "python",
   "nbconvert_exporter": "python",
   "pygments_lexer": "ipython3",
   "version": "3.13.2"
  }
 },
 "nbformat": 4,
 "nbformat_minor": 5
}
